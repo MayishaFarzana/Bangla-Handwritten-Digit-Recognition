{
  "nbformat": 4,
  "nbformat_minor": 0,
  "metadata": {
    "kernelspec": {
      "display_name": "Python 3",
      "language": "python",
      "name": "python3"
    },
    "language_info": {
      "codemirror_mode": {
        "name": "ipython",
        "version": 3
      },
      "file_extension": ".py",
      "mimetype": "text/x-python",
      "name": "python",
      "nbconvert_exporter": "python",
      "pygments_lexer": "ipython3",
      "version": "3.7.4"
    },
    "colab": {
      "name": "160204028_assm3_prob1.ipynb",
      "provenance": [],
      "toc_visible": true
    }
  },
  "cells": [
    {
      "cell_type": "markdown",
      "metadata": {
        "id": "DuP4Jje8uUzi"
      },
      "source": [
        "# Problem 1 Using Deep Neural Network"
      ]
    },
    {
      "cell_type": "markdown",
      "metadata": {
        "id": "nmf082ZSuRj0"
      },
      "source": [
        "**Introduction:**\r\n",
        "Bangla (Bengali) is the second most spoken language in India. It ranks fifth\r\n",
        "in Asia and it is also in the top ten spoken languages in the world. So, a\r\n",
        "huge number of people depend on this language for their day to day communication. Therefore, automatic recognition of Bengali handwritten characters and numeral digits are needed to be digitized for making the communication smoother. Many research works and models have been proposed to recognize Bengali handwritten characters and numeral digits so far, but still, a huge scopeis there to improve this task in terms of accuracy and applicability. \r\n",
        "\r\n",
        "Images of handwritten digits are different from natural images as the orientation of a digit, as well as similarity of features of different digits, makes confusion. Before we have this used this experiment using logistic regression. But in here, we will use deep neural network. Using this model, it will increase the accuracy. It provides a better performance.\r\n",
        "\r\n",
        "In this notebook we will be exploring  different bengali numerals dataset and use to classify these digits. We will be using the following two datasets in these notebook.\r\n",
        "*   Bengali.AI NumtaDB\r\n",
        "*   Ekush \r\n",
        "\r\n",
        "Here are the corresponding bn-eng numerals representation.\r\n",
        "\r\n",
        "*   ০ , ১ , ২ , ৩ , ৪ , ৫ , ৬ , ৭ , ৮ , ৯\r\n",
        "*   0 ,  1 ,  2 ,  3 ,  4 ,  5 ,  6 ,  7 ,  8 ,  9\r\n",
        "\r\n"
      ]
    },
    {
      "cell_type": "code",
      "metadata": {
        "id": "Io5gzK8Kr2og"
      },
      "source": [
        "import os\n",
        "from os import path\n",
        "import shutil\n",
        "import numpy as np\n",
        "import pandas as pd\n",
        "import torch\n",
        "import torch.nn as nn\n",
        "import torch.nn.functional as F\n",
        "import torch.optim as optim\n",
        "from torch.utils.data import Dataset\n",
        "from torch.utils.data.sampler import SubsetRandomSampler\n",
        "import matplotlib\n",
        "import matplotlib.pyplot as plt\n",
        "from PIL import Image\n",
        "from torchvision import datasets, transforms, models\n",
        "from torch.autograd import Variable\n",
        "import numpy as np\n",
        "from matplotlib import pyplot as plt"
      ],
      "execution_count": null,
      "outputs": []
    },
    {
      "cell_type": "code",
      "metadata": {
        "id": "QVUVrdR1r2or",
        "outputId": "acd34d07-2fea-4f9e-8c44-e8a1df66bfff"
      },
      "source": [
        "PATH = 'F:/CSE_4_2_Folder/Soft Computing Lab/namta/'\n",
        "os.listdir(PATH)"
      ],
      "execution_count": null,
      "outputs": [
        {
          "output_type": "execute_result",
          "data": {
            "text/plain": [
              "['assignment1_mod1.pkl',\n",
              " 'assignment1_mod2.pkl',\n",
              " 'assignment1_mod3.pkl',\n",
              " 'assignment1_model1.pkl',\n",
              " 'testing-a',\n",
              " 'testing-all-corrected',\n",
              " 'testing-auga',\n",
              " 'testing-augc',\n",
              " 'testing-b',\n",
              " 'testing-c',\n",
              " 'testing-d',\n",
              " 'testing-e',\n",
              " 'testing-f',\n",
              " 'train1',\n",
              " 'train10',\n",
              " 'train12',\n",
              " 'train13',\n",
              " 'train2',\n",
              " 'train3',\n",
              " 'train4',\n",
              " 'train8',\n",
              " 'train9',\n",
              " 'training-a',\n",
              " 'training-a.csv',\n",
              " 'training-b',\n",
              " 'training-b.csv',\n",
              " 'training-c',\n",
              " 'training-c.csv',\n",
              " 'training-d',\n",
              " 'training-d.csv',\n",
              " 'training-e',\n",
              " 'training-e.csv']"
            ]
          },
          "metadata": {
            "tags": []
          },
          "execution_count": 2
        }
      ]
    },
    {
      "cell_type": "code",
      "metadata": {
        "id": "6GEQeW3tr2ot"
      },
      "source": [
        "def showRawTrainingSamples(csv_filename):# sb csv file ki ki col e  type dekhacche\n",
        "    df = pd.read_csv(PATH + csv_filename)\n",
        "    print(csv_filename)\n",
        "    print(df.columns)\n",
        "    return df"
      ],
      "execution_count": null,
      "outputs": []
    },
    {
      "cell_type": "code",
      "metadata": {
        "id": "Y2aY8g1Ir2ou",
        "outputId": "58a3f289-7048-4110-ca00-6734ee0ad32f"
      },
      "source": [
        "a_csv = showRawTrainingSamples('training-a.csv')\n",
        "b_csv = showRawTrainingSamples('training-b.csv')\n",
        "c_csv = showRawTrainingSamples('training-c.csv')\n",
        "d_csv = showRawTrainingSamples('training-d.csv')\n",
        "e_csv = showRawTrainingSamples('training-e.csv')\n"
      ],
      "execution_count": null,
      "outputs": [
        {
          "output_type": "stream",
          "text": [
            "training-a.csv\n",
            "Index(['filename', 'original filename', 'scanid', 'digit',\n",
            "       'database name original', 'contributing team', 'database name'],\n",
            "      dtype='object')\n",
            "training-b.csv\n",
            "Index(['filename', 'original filename', 'scanid', 'digit',\n",
            "       'database name original', 'contributing team', 'database name'],\n",
            "      dtype='object')\n",
            "training-c.csv\n",
            "Index(['filename', 'original filename', 'scanid', 'digit',\n",
            "       'database name original', 'contributing team', 'database name'],\n",
            "      dtype='object')\n",
            "training-d.csv\n",
            "Index(['original filename', 'scanid', 'digit', 'num', 'database name original',\n",
            "       'database name', 'filename'],\n",
            "      dtype='object')\n",
            "training-e.csv\n",
            "Index(['filename', 'original filename', 'districtid', 'institutionid',\n",
            "       'gender', 'age', 'datestamp', 'scanid', 'digit',\n",
            "       'database name original', 'database name'],\n",
            "      dtype='object')\n"
          ],
          "name": "stdout"
        }
      ]
    },
    {
      "cell_type": "code",
      "metadata": {
        "id": "3v5fbs7Ar2ov"
      },
      "source": [
        "#here i make a function for taking filename and digit from csv file.\n",
        "def dropColumns(csv_file):\n",
        "    csv_file = csv_file[['filename', 'digit']]\n",
        "    print(csv_file)\n",
        "    print(csv_file.iloc[:5, :])   \n",
        "    print(\"=============================\")\n",
        "    return csv_file"
      ],
      "execution_count": null,
      "outputs": []
    },
    {
      "cell_type": "code",
      "metadata": {
        "id": "Sfo_PjLNr2ow",
        "outputId": "16d0ce36-57eb-426e-ed57-e1908117c0c3"
      },
      "source": [
        "a_csv = dropColumns(a_csv)\n",
        "b_csv = dropColumns(b_csv)\n",
        "c_csv = dropColumns(c_csv)\n",
        "d_csv = dropColumns(d_csv)\n",
        "e_csv = dropColumns(e_csv)"
      ],
      "execution_count": null,
      "outputs": [
        {
          "output_type": "stream",
          "text": [
            "         filename  digit\n",
            "0      a00000.png      5\n",
            "1      a00001.png      3\n",
            "2      a00002.png      1\n",
            "3      a00003.png      7\n",
            "4      a00004.png      0\n",
            "...           ...    ...\n",
            "19697  a19697.png      4\n",
            "19698  a19698.png      3\n",
            "19699  a19699.png      8\n",
            "19700  a19700.png      3\n",
            "19701  a19701.png      8\n",
            "\n",
            "[19702 rows x 2 columns]\n",
            "     filename  digit\n",
            "0  a00000.png      5\n",
            "1  a00001.png      3\n",
            "2  a00002.png      1\n",
            "3  a00003.png      7\n",
            "4  a00004.png      0\n",
            "=============================\n",
            "       filename  digit\n",
            "0    b00000.png      0\n",
            "1    b00001.png      2\n",
            "2    b00002.png      5\n",
            "3    b00003.png      2\n",
            "4    b00004.png      5\n",
            "..          ...    ...\n",
            "354  b00354.png      5\n",
            "355  b00355.png      9\n",
            "356  b00356.png      2\n",
            "357  b00357.png      1\n",
            "358  b00358.png      2\n",
            "\n",
            "[359 rows x 2 columns]\n",
            "     filename  digit\n",
            "0  b00000.png      0\n",
            "1  b00001.png      2\n",
            "2  b00002.png      5\n",
            "3  b00003.png      2\n",
            "4  b00004.png      5\n",
            "=============================\n",
            "         filename  digit\n",
            "0      c00000.png      6\n",
            "1      c00001.png      1\n",
            "2      c00002.png      3\n",
            "3      c00003.png      2\n",
            "4      c00004.png      7\n",
            "...           ...    ...\n",
            "24293  c24293.png      3\n",
            "24294  c24294.png      2\n",
            "24295  c24295.png      7\n",
            "24296  c24296.png      2\n",
            "24297  c24297.png      7\n",
            "\n",
            "[24298 rows x 2 columns]\n",
            "     filename  digit\n",
            "0  c00000.png      6\n",
            "1  c00001.png      1\n",
            "2  c00002.png      3\n",
            "3  c00003.png      2\n",
            "4  c00004.png      7\n",
            "=============================\n",
            "         filename  digit\n",
            "0      d00000.png      1\n",
            "1      d00001.png      1\n",
            "2      d00002.png      5\n",
            "3      d00003.png      7\n",
            "4      d00004.png      0\n",
            "...           ...    ...\n",
            "10903  d10903.png      8\n",
            "10904  d10904.png      6\n",
            "10905  d10905.png      1\n",
            "10906  d10906.png      6\n",
            "10907  d10907.png      1\n",
            "\n",
            "[10908 rows x 2 columns]\n",
            "     filename  digit\n",
            "0  d00000.png      1\n",
            "1  d00001.png      1\n",
            "2  d00002.png      5\n",
            "3  d00003.png      7\n",
            "4  d00004.png      0\n",
            "=============================\n",
            "         filename  digit\n",
            "0      e00000.png      9\n",
            "1      e00001.png      9\n",
            "2      e00002.png      0\n",
            "3      e00003.png      4\n",
            "4      e00004.png      5\n",
            "...           ...    ...\n",
            "16773  e16773.png      2\n",
            "16774  e16774.png      6\n",
            "16775  e16775.png      5\n",
            "16776  e16776.png      4\n",
            "16777  e16777.png      4\n",
            "\n",
            "[16778 rows x 2 columns]\n",
            "     filename  digit\n",
            "0  e00000.png      9\n",
            "1  e00001.png      9\n",
            "2  e00002.png      0\n",
            "3  e00003.png      4\n",
            "4  e00004.png      5\n",
            "=============================\n"
          ],
          "name": "stdout"
        }
      ]
    },
    {
      "cell_type": "code",
      "metadata": {
        "id": "xgK2Fgp2r2ow",
        "outputId": "db7eed05-6159-4a61-e87a-549d9e89981c"
      },
      "source": [
        "total_csv = [a_csv,b_csv, c_csv, d_csv,e_csv]\n",
        "merged_csv = pd.concat(total_csv)\n",
        "print(len(merged_csv))"
      ],
      "execution_count": null,
      "outputs": [
        {
          "output_type": "stream",
          "text": [
            "72045\n"
          ],
          "name": "stdout"
        }
      ]
    },
    {
      "cell_type": "code",
      "metadata": {
        "id": "VZR63gywr2ox"
      },
      "source": [
        "TRAIN_PATH = 'F:/CSE_4_2_Folder/Soft Computing Lab/namta/train15'\n",
        "os.mkdir(TRAIN_PATH)"
      ],
      "execution_count": null,
      "outputs": []
    },
    {
      "cell_type": "code",
      "metadata": {
        "id": "Res6kpUxr2oy"
      },
      "source": [
        "def processImages(folder_name):\n",
        "    src = PATH + folder_name + '/'\n",
        "    dir_folders = os.listdir(src)\n",
        "    for dir_name in dir_folders:\n",
        "        file_name = os.path.join(src, dir_name)\n",
        "        if os.path.isfile(file_name):\n",
        "            shutil.copy(file_name, TRAIN_PATH) "
      ],
      "execution_count": null,
      "outputs": []
    },
    {
      "cell_type": "code",
      "metadata": {
        "id": "4quecLYrr2oy",
        "outputId": "9c9b05c9-bcfe-4d3a-f295-a24e42dc7a3e"
      },
      "source": [
        "processImages('training-a')\n",
        "print('A Done')\n",
        "processImages('training-b')\n",
        "print('B Done')\n",
        "processImages('training-c')\n",
        "print('C Done')\n",
        "processImages('training-d')\n",
        "print('D Done')\n",
        "processImages('training-e')\n",
        "print('E Done')"
      ],
      "execution_count": null,
      "outputs": [
        {
          "output_type": "stream",
          "text": [
            "A Done\n",
            "B Done\n",
            "C Done\n",
            "D Done\n",
            "E Done\n"
          ],
          "name": "stdout"
        }
      ]
    },
    {
      "cell_type": "code",
      "metadata": {
        "id": "ciHxCoepr2oz"
      },
      "source": [
        "class Dataset(Dataset):\n",
        "    def __init__(self, df, root, transform=None):\n",
        "        self.data = df\n",
        "        self.root = root\n",
        "        self.transform = transform\n",
        "        \n",
        "    def __len__(self):\n",
        "        return len(self.data)\n",
        "    \n",
        "    def __getitem__(self, index):\n",
        "        item = self.data.iloc[index]\n",
        "        \n",
        "        path = self.root + \"/\" + item[0]\n",
        "        image = Image.open(path).convert('L')\n",
        "        label = item[1]\n",
        "        \n",
        "        if self.transform is not None:\n",
        "            image = self.transform(image)\n",
        "            \n",
        "        return image, label"
      ],
      "execution_count": null,
      "outputs": []
    },
    {
      "cell_type": "code",
      "metadata": {
        "id": "yjMvEYvcr2o0",
        "outputId": "f2b2d904-3ab9-4183-ec77-bfdea297a403"
      },
      "source": [
        "mean = [0.5,]\n",
        "std = [0.5, ]\n",
        "\n",
        "train_transform = transforms.Compose([\n",
        "    transforms.Resize((28,28)),\n",
        "    transforms.ToTensor(),\n",
        "    transforms.Normalize(mean, std)\n",
        "])\n",
        "\n",
        "test_transform = transforms.Compose([\n",
        "        transforms.Resize((28,28)),\n",
        "        transforms.ToTensor(),\n",
        "        transforms.Normalize(mean, std)\n",
        "])\n",
        "\n",
        "train_data  = Dataset(merged_csv, TRAIN_PATH, train_transform)\n",
        "test_data = Dataset(merged_csv, TRAIN_PATH, test_transform)\n",
        "\n",
        "print(\"Trainig Samples: \",len(train_data))"
      ],
      "execution_count": null,
      "outputs": [
        {
          "output_type": "stream",
          "text": [
            "Trainig Samples:  72045\n"
          ],
          "name": "stdout"
        }
      ]
    },
    {
      "cell_type": "markdown",
      "metadata": {
        "id": "4INV5MT6yqPk"
      },
      "source": [
        "# Loading Bangla Digit Dataset\r\n",
        "\r\n",
        "- **totaldata:** 72045\r\n",
        "- **minibatch:** 220\r\n",
        "  - Number of examples in **1** iteration\r\n",
        "\r\n",
        "- **iterations:** 10000\r\n",
        "  - *1 iteration: one mini-batch forward & backward pass. That means a parameter (wights and biases) update.*\r\n",
        "\r\n",
        "- **epochs**\r\n",
        "  - 1 epoch: running through the whole dataset once\r\n",
        "  - $epochs = iterations \\div \\frac{totaldata}{minibatch} = 10000 \\div \\frac{72045}{220} = 30$"
      ]
    },
    {
      "cell_type": "markdown",
      "metadata": {
        "id": "X818Tzgmustn"
      },
      "source": [
        "# Changing the hyperparameter for the first try"
      ]
    },
    {
      "cell_type": "code",
      "metadata": {
        "id": "8WiRjYE3r2o1",
        "outputId": "d54da73a-0f73-4861-c441-881fb7dc1376"
      },
      "source": [
        "# Hyperparameters\n",
        "\n",
        "batch_size = 220\n",
        "num_iters = 10000\n",
        "input_dim = 28*28 # num_features = 784\n",
        "num_hidden = 250 # num of hidden nodes\n",
        "output_dim = 10\n",
        "\n",
        "learning_rate = 0.001  # More power so we can learn faster! previously it was 0.001\n",
        "\n",
        "num_epochs = num_iters / (len(train_data) / batch_size)\n",
        "num_epochs = int(num_epochs)\n",
        "print(num_epochs)\n",
        "\n",
        "# Device\n",
        "device = torch.device(\"cuda:0\" if torch.cuda.is_available() else \"cpu\")\n",
        "\n",
        "# split data 10% for testing\n",
        "test_size = 0.1\n",
        "\n",
        "# obtain training indices that will be used for validation\n",
        "num_train = len(train_data)\n",
        "\n",
        "# mix data\n",
        "# index of num of train\n",
        "indices = list(range(num_train))\n",
        "# random the index\n",
        "np.random.shuffle(indices)\n",
        "split = int(np.floor(test_size * num_train))\n",
        "# divied into two part\n",
        "train_idx, test_idx = indices[split:], indices[:split]\n",
        "\n",
        "# define the sampler\n",
        "train_sampler = SubsetRandomSampler(train_idx)\n",
        "test_sampler = SubsetRandomSampler(test_idx)\n",
        "\n",
        "# prepare loaders\n",
        "train_loader = torch.utils.data.DataLoader(\n",
        "    train_data, batch_size=batch_size,\n",
        "    sampler=train_sampler)\n",
        "\n",
        "test_loader = torch.utils.data.DataLoader(\n",
        "    test_data, batch_size=batch_size,\n",
        "    sampler=test_sampler)\n",
        "\n",
        "print(\"Train dataloader:{}\".format(len(train_loader)))\n",
        "print(\"Test dataloader:{}\".format(len(test_loader)))\n",
        "class DeepNeuralNetworkModel(nn.Module):\n",
        "    def __init__(self, input_size, num_classes, num_hidden):\n",
        "        super().__init__()\n",
        "        ### 1st hidden layer: 784 --> 100\n",
        "        self.linear_1 = nn.Linear(input_size, num_hidden)\n",
        "        ### Non-linearity in 1st hidden layer\n",
        "        self.relu_1 = nn.ReLU6()\n",
        "\n",
        "        ### 2nd hidden layer: 100 --> 100\n",
        "        self.linear_2 = nn.Linear(num_hidden, num_hidden)\n",
        "        ### Non-linearity in 2nd hidden layer\n",
        "        self.relu_2 = nn.ReLU6()\n",
        "\n",
        "        ### Output layer: 100 --> 10\n",
        "        self.linear_out = nn.Linear(num_hidden, num_classes)\n",
        "\n",
        "    def forward(self, x):\n",
        "        ### 1st hidden layer\n",
        "        out  = self.linear_1(x)\n",
        "        ### Non-linearity in 1st hidden layer\n",
        "        out = self.relu_1(out)\n",
        "        \n",
        "        ### 2nd hidden layer\n",
        "        out  = self.linear_2(out)\n",
        "        ### Non-linearity in 2nd hidden layer\n",
        "        out = self.relu_2(out)\n",
        "        \n",
        "        # Linear layer (output)\n",
        "        probas  = self.linear_out(out)\n",
        "        return probas\n",
        "# INSTANTIATE MODEL CLASS\n",
        "\n",
        "model = DeepNeuralNetworkModel(input_size = input_dim,\n",
        "                               num_classes = output_dim,\n",
        "                               num_hidden = num_hidden)\n",
        "# To enable GPU\n",
        "model.to(device)\n",
        "# INSTANTIATE LOSS & OPTIMIZER CLASS\n",
        "\n",
        "criterion = nn.CrossEntropyLoss()\n",
        "optimizer = torch.optim.Adamax(model.parameters(), lr=learning_rate)\n",
        "iteration_loss = []\n",
        "iter = 0\n",
        "for epoch in range(num_epochs):\n",
        "    for i, (images, labels) in enumerate(train_loader):\n",
        "\n",
        "        images = images.view(-1, 28*28).to(device)\n",
        "        labels = labels.to(device)\n",
        "\n",
        "        # Clear gradients w.r.t. parameters\n",
        "        optimizer.zero_grad()\n",
        "\n",
        "        # Forward pass to get output/logits\n",
        "        outputs = model(images) \n",
        "\n",
        "        # Calculate Loss: softmax --> cross entropy loss\n",
        "        loss = criterion(outputs, labels)\n",
        "\n",
        "        # Getting gradients w.r.t. parameters\n",
        "        loss.backward()\n",
        "\n",
        "        # Updating parameters\n",
        "        optimizer.step()\n",
        "\n",
        "        iter += 1\n",
        "\n",
        "        if iter % 500 == 0:\n",
        "            # Calculate Accuracy         \n",
        "            correct = 0\n",
        "            total = 0\n",
        "            # Iterate through test dataset\n",
        "            for images, labels in test_loader:\n",
        "               \n",
        "                images = images.view(-1, 28*28).to(device)\n",
        "\n",
        "                # Forward pass only to get logits/output\n",
        "                outputs = model(images)\n",
        "\n",
        "                # Get predictions from the maximum value\n",
        "                _, predicted = torch.max(outputs, 1)\n",
        "\n",
        "                # Total number of labels\n",
        "                total += labels.size(0)\n",
        "\n",
        "\n",
        "                # Total correct predictions\n",
        "                if torch.cuda.is_available():\n",
        "                    correct += (predicted.cpu() == labels.cpu()).sum() \n",
        "                else:\n",
        "                    correct += (predicted == labels).sum()\n",
        "\n",
        "            accuracy = 100 * correct.item() / total\n",
        "\n",
        "            # Print Loss\n",
        "            iteration_loss.append(loss.item())\n",
        "            print('Iteration: {}. Loss: {}. Accuracy: {}'.format(iter, loss.item(), accuracy))"
      ],
      "execution_count": null,
      "outputs": [
        {
          "output_type": "stream",
          "text": [
            "30\n",
            "Train dataloader:295\n",
            "Test dataloader:33\n",
            "Iteration: 500. Loss: 1.700404167175293. Accuracy: 41.24097723486952\n",
            "Iteration: 1000. Loss: 1.68721604347229. Accuracy: 50.22209883398112\n",
            "Iteration: 1500. Loss: 1.2782448530197144. Accuracy: 54.45585785674625\n",
            "Iteration: 2000. Loss: 1.2811039686203003. Accuracy: 60.10549694614103\n",
            "Iteration: 2500. Loss: 1.1274889707565308. Accuracy: 61.299278178789564\n",
            "Iteration: 3000. Loss: 1.0414632558822632. Accuracy: 65.17212659633537\n",
            "Iteration: 3500. Loss: 0.9663658142089844. Accuracy: 68.33703498056636\n",
            "Iteration: 4000. Loss: 0.850073516368866. Accuracy: 69.07273736812881\n",
            "Iteration: 4500. Loss: 0.9185014963150024. Accuracy: 68.48972792892837\n",
            "Iteration: 5000. Loss: 0.7790033221244812. Accuracy: 73.8895058300944\n",
            "Iteration: 5500. Loss: 0.6686756014823914. Accuracy: 75.4858411993337\n",
            "Iteration: 6000. Loss: 0.6643067598342896. Accuracy: 74.6529705719045\n",
            "Iteration: 6500. Loss: 0.738071858882904. Accuracy: 76.90172126596336\n",
            "Iteration: 7000. Loss: 0.6662189364433289. Accuracy: 77.73459189339256\n",
            "Iteration: 7500. Loss: 0.606345534324646. Accuracy: 77.17934480843975\n",
            "Iteration: 8000. Loss: 0.6234821677207947. Accuracy: 78.06774014436424\n",
            "Iteration: 8500. Loss: 0.6845114827156067. Accuracy: 79.59466962798446\n"
          ],
          "name": "stdout"
        }
      ]
    },
    {
      "cell_type": "markdown",
      "metadata": {
        "id": "wmABJJGQuyDl"
      },
      "source": [
        "# Save model"
      ]
    },
    {
      "cell_type": "code",
      "metadata": {
        "id": "4talfFCJr2o7"
      },
      "source": [
        "#settings 1\n",
        "save_model = True\n",
        "\n",
        "if save_model is True:\n",
        "    # Saves only parameters\n",
        "    # wights & biases\n",
        "    torch.save(model.state_dict(), PATH + 'assignment1_model6.pkl') "
      ],
      "execution_count": null,
      "outputs": []
    },
    {
      "cell_type": "markdown",
      "metadata": {
        "id": "EDqKLGkou0OT"
      },
      "source": [
        "# Testing loaded model with digits:"
      ]
    },
    {
      "cell_type": "code",
      "metadata": {
        "id": "tHAghujtr2pA",
        "outputId": "0164bb48-532c-4998-a88e-d458c21d8d4d"
      },
      "source": [
        "import matplotlib\n",
        "import matplotlib.pyplot as plt\n",
        "\n",
        "print (iteration_loss)\n",
        "plt.plot(iteration_loss)\n",
        "plt.ylabel('Cross Entropy Loss')\n",
        "plt.xlabel('Iteration (in every 500)')\n",
        "plt.show()"
      ],
      "execution_count": null,
      "outputs": [
        {
          "output_type": "stream",
          "text": [
            "[1.700404167175293, 1.68721604347229, 1.2782448530197144, 1.2811039686203003, 1.1274889707565308, 1.0414632558822632, 0.9663658142089844, 0.850073516368866, 0.9185014963150024, 0.7790033221244812, 0.6686756014823914, 0.6643067598342896, 0.738071858882904, 0.6662189364433289, 0.606345534324646, 0.6234821677207947, 0.6845114827156067]\n"
          ],
          "name": "stdout"
        },
        {
          "output_type": "display_data",
          "data": {
            "image/png": "[encoded data removed]",
            "text/plain": [
              "<Figure size 432x288 with 1 Axes>"
            ]
          },
          "metadata": {
            "tags": [],
            "needs_background": "light"
          }
        }
      ]
    },
    {
      "cell_type": "code",
      "metadata": {
        "id": "0ePnncger2pB",
        "outputId": "65d21b11-339a-4244-805a-bce5645521ce"
      },
      "source": [
        "import matplotlib\n",
        "import matplotlib.pyplot as plt\n",
        "for images, labels in test_loader:\n",
        "    break\n",
        "    \n",
        "fig, ax = plt.subplots(1, 7)\n",
        "for i in range(7):\n",
        "    ax[i].imshow(images[i].view(28,28), cmap=matplotlib.cm.binary)\n",
        "\n",
        "plt.show()"
      ],
      "execution_count": null,
      "outputs": [
        {
          "output_type": "display_data",
          "data": {
            "image/png": "[encoded data removed]",
            "text/plain": [
              "<Figure size 432x288 with 7 Axes>"
            ]
          },
          "metadata": {
            "tags": [],
            "needs_background": "light"
          }
        }
      ]
    },
    {
      "cell_type": "code",
      "metadata": {
        "id": "7d6CTpNwr2pB"
      },
      "source": [
        ""
      ],
      "execution_count": null,
      "outputs": []
    },
    {
      "cell_type": "markdown",
      "metadata": {
        "id": "iquwsBBb2A0I"
      },
      "source": [
        "# Loading Bangla Digit Dataset\r\n",
        "\r\n",
        "- **totaldata:** 72045\r\n",
        "- **minibatch:** 210\r\n",
        "  - Number of examples in **1** iteration\r\n",
        "\r\n",
        "- **iterations:** 9000\r\n",
        "  - *1 iteration: one mini-batch forward & backward pass. That means a parameter (wights and biases) update.*\r\n",
        "\r\n",
        "- **epochs**\r\n",
        "  - 1 epoch: running through the whole dataset once\r\n",
        "  - $epochs = iterations \\div \\frac{totaldata}{minibatch} = 90000 \\div \\frac{72045}{210} = 26$"
      ]
    },
    {
      "cell_type": "markdown",
      "metadata": {
        "id": "_h5AaGg5u5wX"
      },
      "source": [
        "# Changing the hyperparameter for second try:"
      ]
    },
    {
      "cell_type": "code",
      "metadata": {
        "id": "N-iPSmM8r2pD",
        "outputId": "1924e81c-4758-484c-ae2b-3a775180f5da"
      },
      "source": [
        "# Hyperparameters\n",
        "\n",
        "batch_size = 210\n",
        "num_iters = 9000\n",
        "input_dim = 28*28 # num_features = 784\n",
        "num_hidden = 250 # num of hidden nodes\n",
        "output_dim = 10\n",
        "\n",
        "learning_rate = 0.001  # More power so we can learn faster! previously it was 0.001\n",
        "\n",
        "num_epochs = num_iters / (len(train_data) / batch_size)\n",
        "num_epochs = int(num_epochs)\n",
        "print(num_epochs)\n",
        "\n",
        "# Device\n",
        "device = torch.device(\"cuda:0\" if torch.cuda.is_available() else \"cpu\")\n",
        "\n",
        "# split data 10% for testing\n",
        "test_size = 0.1\n",
        "\n",
        "# obtain training indices that will be used for validation\n",
        "num_train = len(train_data)\n",
        "\n",
        "# mix data\n",
        "# index of num of train\n",
        "indices = list(range(num_train))\n",
        "# random the index\n",
        "np.random.shuffle(indices)\n",
        "split = int(np.floor(test_size * num_train))\n",
        "# divied into two part\n",
        "train_idx, test_idx = indices[split:], indices[:split]\n",
        "\n",
        "# define the sampler\n",
        "train_sampler = SubsetRandomSampler(train_idx)\n",
        "test_sampler = SubsetRandomSampler(test_idx)\n",
        "\n",
        "# prepare loaders\n",
        "train_loader = torch.utils.data.DataLoader(\n",
        "    train_data, batch_size=batch_size,\n",
        "    sampler=train_sampler)\n",
        "\n",
        "test_loader = torch.utils.data.DataLoader(\n",
        "    test_data, batch_size=batch_size,\n",
        "    sampler=test_sampler)\n",
        "\n",
        "print(\"Train dataloader:{}\".format(len(train_loader)))\n",
        "print(\"Test dataloader:{}\".format(len(test_loader)))\n",
        "class DeepNeuralNetworkModel(nn.Module):\n",
        "    def __init__(self, input_size, num_classes, num_hidden):\n",
        "        super().__init__()\n",
        "        ### 1st hidden layer: 784 --> 100\n",
        "        self.linear_1 = nn.Linear(input_size, num_hidden)\n",
        "        ### Non-linearity in 1st hidden layer\n",
        "        self.relu_1 = nn.ReLU6()\n",
        "\n",
        "        ### 2nd hidden layer: 100 --> 100\n",
        "        self.linear_2 = nn.Linear(num_hidden, num_hidden)\n",
        "        ### Non-linearity in 2nd hidden layer\n",
        "        self.relu_2 = nn.ReLU6()\n",
        "\n",
        "        ### Output layer: 100 --> 10\n",
        "        self.linear_out = nn.Linear(num_hidden, num_classes)\n",
        "\n",
        "    def forward(self, x):\n",
        "        ### 1st hidden layer\n",
        "        out  = self.linear_1(x)\n",
        "        ### Non-linearity in 1st hidden layer\n",
        "        out = self.relu_1(out)\n",
        "        \n",
        "        ### 2nd hidden layer\n",
        "        out  = self.linear_2(out)\n",
        "        ### Non-linearity in 2nd hidden layer\n",
        "        out = self.relu_2(out)\n",
        "        \n",
        "        # Linear layer (output)\n",
        "        probas  = self.linear_out(out)\n",
        "        return probas\n",
        "# INSTANTIATE MODEL CLASS\n",
        "\n",
        "model = DeepNeuralNetworkModel(input_size = input_dim,\n",
        "                               num_classes = output_dim,\n",
        "                               num_hidden = num_hidden)\n",
        "# To enable GPU\n",
        "model.to(device)\n",
        "# INSTANTIATE LOSS & OPTIMIZER CLASS\n",
        "\n",
        "criterion = nn.CrossEntropyLoss()\n",
        "optimizer = torch.optim.Adamax(model.parameters(), lr=learning_rate)\n",
        "iteration_loss = []\n",
        "iter = 0\n",
        "for epoch in range(num_epochs):\n",
        "    for i, (images, labels) in enumerate(train_loader):\n",
        "\n",
        "        images = images.view(-1, 28*28).to(device)\n",
        "        labels = labels.to(device)\n",
        "\n",
        "        # Clear gradients w.r.t. parameters\n",
        "        optimizer.zero_grad()\n",
        "\n",
        "        # Forward pass to get output/logits\n",
        "        outputs = model(images) \n",
        "\n",
        "        # Calculate Loss: softmax --> cross entropy loss\n",
        "        loss = criterion(outputs, labels)\n",
        "\n",
        "        # Getting gradients w.r.t. parameters\n",
        "        loss.backward()\n",
        "\n",
        "        # Updating parameters\n",
        "        optimizer.step()\n",
        "\n",
        "        iter += 1\n",
        "\n",
        "        if iter % 500 == 0:\n",
        "            # Calculate Accuracy         \n",
        "            correct = 0\n",
        "            total = 0\n",
        "            # Iterate through test dataset\n",
        "            for images, labels in test_loader:\n",
        "               \n",
        "                images = images.view(-1, 28*28).to(device)\n",
        "\n",
        "                # Forward pass only to get logits/output\n",
        "                outputs = model(images)\n",
        "\n",
        "                # Get predictions from the maximum value\n",
        "                _, predicted = torch.max(outputs, 1)\n",
        "\n",
        "                # Total number of labels\n",
        "                total += labels.size(0)\n",
        "\n",
        "\n",
        "                # Total correct predictions\n",
        "                if torch.cuda.is_available():\n",
        "                    correct += (predicted.cpu() == labels.cpu()).sum() \n",
        "                else:\n",
        "                    correct += (predicted == labels).sum()\n",
        "\n",
        "            accuracy = 100 * correct.item() / total\n",
        "\n",
        "            # Print Loss\n",
        "            iteration_loss.append(loss.item())\n",
        "            print('Iteration: {}. Loss: {}. Accuracy: {}'.format(iter, loss.item(), accuracy))"
      ],
      "execution_count": null,
      "outputs": [
        {
          "output_type": "stream",
          "text": [
            "26\n",
            "Train dataloader:309\n",
            "Test dataloader:35\n",
            "Iteration: 500. Loss: 1.706512212753296. Accuracy: 40.64408661854525\n",
            "Iteration: 1000. Loss: 1.6381065845489502. Accuracy: 48.917268184342035\n",
            "Iteration: 1500. Loss: 1.4601004123687744. Accuracy: 55.774569683509164\n",
            "Iteration: 2000. Loss: 1.1868953704833984. Accuracy: 58.48139922265408\n",
            "Iteration: 2500. Loss: 1.1576603651046753. Accuracy: 61.64630760688507\n",
            "Iteration: 3000. Loss: 1.0425877571105957. Accuracy: 64.21432537479178\n",
            "Iteration: 3500. Loss: 0.8700122833251953. Accuracy: 68.42032204330927\n",
            "Iteration: 4000. Loss: 0.9110303521156311. Accuracy: 67.36535258189895\n",
            "Iteration: 4500. Loss: 0.6872259378433228. Accuracy: 70.46085508051083\n",
            "Iteration: 5000. Loss: 0.7651466131210327. Accuracy: 73.66740699611327\n",
            "Iteration: 5500. Loss: 0.768509030342102. Accuracy: 72.26540810660744\n",
            "Iteration: 6000. Loss: 0.8919311761856079. Accuracy: 75.97168239866741\n",
            "Iteration: 6500. Loss: 0.5674563646316528. Accuracy: 74.41699056079956\n",
            "Iteration: 7000. Loss: 0.728328287601471. Accuracy: 76.45752359800112\n",
            "Iteration: 7500. Loss: 0.7912507653236389. Accuracy: 78.60910605219323\n",
            "Iteration: 8000. Loss: 0.5919965505599976. Accuracy: 77.22098833981121\n"
          ],
          "name": "stdout"
        }
      ]
    },
    {
      "cell_type": "markdown",
      "metadata": {
        "id": "N4FHKM99vWp0"
      },
      "source": [
        "# Save the model"
      ]
    },
    {
      "cell_type": "code",
      "metadata": {
        "id": "CrwPjN1Er2pF"
      },
      "source": [
        "#settings 2\n",
        "save_model = True\n",
        "\n",
        "if save_model is True:\n",
        "    # Saves only parameters\n",
        "    # wights & biases\n",
        "    torch.save(model.state_dict(), PATH + 'assignment1_model7.pkl') "
      ],
      "execution_count": null,
      "outputs": []
    },
    {
      "cell_type": "markdown",
      "metadata": {
        "id": "Wqgl4xtvvY0h"
      },
      "source": [
        "# Testing loaded model with digits:"
      ]
    },
    {
      "cell_type": "code",
      "metadata": {
        "id": "L49TdxgIr2pH",
        "outputId": "03134191-ef31-4943-f97c-489368d8be5d"
      },
      "source": [
        "import matplotlib\n",
        "import matplotlib.pyplot as plt\n",
        "for images, labels in test_loader:\n",
        "    break\n",
        "    \n",
        "fig, ax = plt.subplots(1, 7)\n",
        "for i in range(7):\n",
        "    ax[i].imshow(images[i].view(28,28), cmap=matplotlib.cm.binary)\n",
        "\n",
        "plt.show()"
      ],
      "execution_count": null,
      "outputs": [
        {
          "output_type": "display_data",
          "data": {
            "image/png": "[encoded data removed]",
            "text/plain": [
              "<Figure size 432x288 with 7 Axes>"
            ]
          },
          "metadata": {
            "tags": [],
            "needs_background": "light"
          }
        }
      ]
    },
    {
      "cell_type": "code",
      "metadata": {
        "id": "dYEp6l2ir2pJ",
        "outputId": "61433058-62e2-4a5c-9cb1-fc89ffdcc108"
      },
      "source": [
        "import matplotlib\n",
        "import matplotlib.pyplot as plt\n",
        "\n",
        "print (iteration_loss)\n",
        "plt.plot(iteration_loss)\n",
        "plt.ylabel('Cross Entropy Loss')\n",
        "plt.xlabel('Iteration (in every 500)')\n",
        "plt.show()"
      ],
      "execution_count": null,
      "outputs": [
        {
          "output_type": "stream",
          "text": [
            "[1.706512212753296, 1.6381065845489502, 1.4601004123687744, 1.1868953704833984, 1.1576603651046753, 1.0425877571105957, 0.8700122833251953, 0.9110303521156311, 0.6872259378433228, 0.7651466131210327, 0.768509030342102, 0.8919311761856079, 0.5674563646316528, 0.728328287601471, 0.7912507653236389, 0.5919965505599976]\n"
          ],
          "name": "stdout"
        },
        {
          "output_type": "display_data",
          "data": {
            "image/png": "[encoded data removed]",
            "text/plain": [
              "<Figure size 432x288 with 1 Axes>"
            ]
          },
          "metadata": {
            "tags": [],
            "needs_background": "light"
          }
        }
      ]
    },
    {
      "cell_type": "markdown",
      "metadata": {
        "id": "15bhKjlSve_Q"
      },
      "source": [
        "# Changing the hyperparameter for third try:"
      ]
    },
    {
      "cell_type": "markdown",
      "metadata": {
        "id": "2gql2Joh2U3Z"
      },
      "source": [
        "# Loading Bangla Digit Dataset\r\n",
        "\r\n",
        "- **totaldata:** 72045\r\n",
        "- **minibatch:** 220\r\n",
        "  - Number of examples in **1** iteration\r\n",
        "\r\n",
        "- **iterations:** 9000\r\n",
        "  - *1 iteration: one mini-batch forward & backward pass. That means a parameter (wights and biases) update.*\r\n",
        "\r\n",
        "- **epochs**\r\n",
        "  - 1 epoch: running through the whole dataset once\r\n",
        "  - $epochs = iterations \\div \\frac{totaldata}{minibatch} = 9000 \\div \\frac{72045}{220} = 27$"
      ]
    },
    {
      "cell_type": "code",
      "metadata": {
        "id": "GV2T5802r2pK",
        "outputId": "b48a017b-bff5-4f8e-804d-e65f6daecf3c"
      },
      "source": [
        "# Hyperparameters\n",
        "\n",
        "batch_size = 220\n",
        "num_iters = 9000\n",
        "input_dim = 28*28 # num_features = 784\n",
        "num_hidden = 250 # num of hidden nodes\n",
        "output_dim = 10\n",
        "\n",
        "learning_rate = 0.001  # More power so we can learn faster! previously it was 0.001\n",
        "\n",
        "num_epochs = num_iters / (len(train_data) / batch_size)\n",
        "num_epochs = int(num_epochs)\n",
        "print(num_epochs)\n",
        "\n",
        "# Device\n",
        "device = torch.device(\"cuda:0\" if torch.cuda.is_available() else \"cpu\")\n",
        "\n",
        "# split data 10% for testing\n",
        "test_size = 0.1\n",
        "\n",
        "# obtain training indices that will be used for validation\n",
        "num_train = len(train_data)\n",
        "\n",
        "# mix data\n",
        "# index of num of train\n",
        "indices = list(range(num_train))\n",
        "# random the index\n",
        "np.random.shuffle(indices)\n",
        "split = int(np.floor(test_size * num_train))\n",
        "# divied into two part\n",
        "train_idx, test_idx = indices[split:], indices[:split]\n",
        "\n",
        "# define the sampler\n",
        "train_sampler = SubsetRandomSampler(train_idx)\n",
        "test_sampler = SubsetRandomSampler(test_idx)\n",
        "\n",
        "# prepare loaders\n",
        "train_loader = torch.utils.data.DataLoader(\n",
        "    train_data, batch_size=batch_size,\n",
        "    sampler=train_sampler)\n",
        "\n",
        "test_loader = torch.utils.data.DataLoader(\n",
        "    test_data, batch_size=batch_size,\n",
        "    sampler=test_sampler)\n",
        "\n",
        "print(\"Train dataloader:{}\".format(len(train_loader)))\n",
        "print(\"Test dataloader:{}\".format(len(test_loader)))\n",
        "class DeepNeuralNetworkModel(nn.Module):\n",
        "    def __init__(self, input_size, num_classes, num_hidden):\n",
        "        super().__init__()\n",
        "        ### 1st hidden layer: 784 --> 100\n",
        "        self.linear_1 = nn.Linear(input_size, num_hidden)\n",
        "        ### Non-linearity in 1st hidden layer\n",
        "        self.relu_1 = nn.ReLU6()\n",
        "\n",
        "        ### 2nd hidden layer: 100 --> 100\n",
        "        self.linear_2 = nn.Linear(num_hidden, num_hidden)\n",
        "        ### Non-linearity in 2nd hidden layer\n",
        "        self.relu_2 = nn.ReLU6()\n",
        "\n",
        "        ### Output layer: 100 --> 10\n",
        "        self.linear_out = nn.Linear(num_hidden, num_classes)\n",
        "\n",
        "    def forward(self, x):\n",
        "        ### 1st hidden layer\n",
        "        out  = self.linear_1(x)\n",
        "        ### Non-linearity in 1st hidden layer\n",
        "        out = self.relu_1(out)\n",
        "        \n",
        "        ### 2nd hidden layer\n",
        "        out  = self.linear_2(out)\n",
        "        ### Non-linearity in 2nd hidden layer\n",
        "        out = self.relu_2(out)\n",
        "        \n",
        "        # Linear layer (output)\n",
        "        probas  = self.linear_out(out)\n",
        "        return probas\n",
        "# INSTANTIATE MODEL CLASS\n",
        "\n",
        "model = DeepNeuralNetworkModel(input_size = input_dim,\n",
        "                               num_classes = output_dim,\n",
        "                               num_hidden = num_hidden)\n",
        "# To enable GPU\n",
        "model.to(device)\n",
        "# INSTANTIATE LOSS & OPTIMIZER CLASS\n",
        "\n",
        "criterion = nn.CrossEntropyLoss()\n",
        "optimizer = torch.optim.Adamax(model.parameters(), lr=learning_rate)\n",
        "iteration_loss = []\n",
        "iter = 0\n",
        "for epoch in range(num_epochs):\n",
        "    for i, (images, labels) in enumerate(train_loader):\n",
        "\n",
        "        images = images.view(-1, 28*28).to(device)\n",
        "        labels = labels.to(device)\n",
        "\n",
        "        # Clear gradients w.r.t. parameters\n",
        "        optimizer.zero_grad()\n",
        "\n",
        "        # Forward pass to get output/logits\n",
        "        outputs = model(images) \n",
        "\n",
        "        # Calculate Loss: softmax --> cross entropy loss\n",
        "        loss = criterion(outputs, labels)\n",
        "\n",
        "        # Getting gradients w.r.t. parameters\n",
        "        loss.backward()\n",
        "\n",
        "        # Updating parameters\n",
        "        optimizer.step()\n",
        "\n",
        "        iter += 1\n",
        "\n",
        "        if iter % 500 == 0:\n",
        "            # Calculate Accuracy         \n",
        "            correct = 0\n",
        "            total = 0\n",
        "            # Iterate through test dataset\n",
        "            for images, labels in test_loader:\n",
        "               \n",
        "                images = images.view(-1, 28*28).to(device)\n",
        "\n",
        "                # Forward pass only to get logits/output\n",
        "                outputs = model(images)\n",
        "\n",
        "                # Get predictions from the maximum value\n",
        "                _, predicted = torch.max(outputs, 1)\n",
        "\n",
        "                # Total number of labels\n",
        "                total += labels.size(0)\n",
        "\n",
        "\n",
        "                # Total correct predictions\n",
        "                if torch.cuda.is_available():\n",
        "                    correct += (predicted.cpu() == labels.cpu()).sum() \n",
        "                else:\n",
        "                    correct += (predicted == labels).sum()\n",
        "\n",
        "            accuracy = 100 * correct.item() / total\n",
        "\n",
        "            # Print Loss\n",
        "            iteration_loss.append(loss.item())\n",
        "            print('Iteration: {}. Loss: {}. Accuracy: {}'.format(iter, loss.item(), accuracy))"
      ],
      "execution_count": null,
      "outputs": [
        {
          "output_type": "stream",
          "text": [
            "27\n",
            "Train dataloader:295\n",
            "Test dataloader:33\n",
            "Iteration: 500. Loss: 1.6665781736373901. Accuracy: 43.795113825652415\n",
            "Iteration: 1000. Loss: 1.483166217803955. Accuracy: 49.403109383675734\n",
            "Iteration: 1500. Loss: 1.225946068763733. Accuracy: 55.49694614103276\n",
            "Iteration: 2000. Loss: 1.2014485597610474. Accuracy: 58.3564686285397\n",
            "Iteration: 2500. Loss: 1.0538617372512817. Accuracy: 62.46529705719045\n",
            "Iteration: 3000. Loss: 1.0474109649658203. Accuracy: 62.89561354802887\n",
            "Iteration: 3500. Loss: 1.131105899810791. Accuracy: 67.19877845641311\n",
            "Iteration: 4000. Loss: 0.7916216254234314. Accuracy: 69.91948917268185\n",
            "Iteration: 4500. Loss: 0.8378718495368958. Accuracy: 69.10049972237645\n",
            "Iteration: 5000. Loss: 0.7933202385902405. Accuracy: 72.07107162687396\n",
            "Iteration: 5500. Loss: 0.7922217845916748. Accuracy: 74.87506940588563\n",
            "Iteration: 6000. Loss: 0.7003310918807983. Accuracy: 74.22265408106607\n",
            "Iteration: 6500. Loss: 0.7076928019523621. Accuracy: 74.70849528039977\n",
            "Iteration: 7000. Loss: 0.5779549479484558. Accuracy: 75.87451415880066\n",
            "Iteration: 7500. Loss: 0.686365008354187. Accuracy: 77.37368128817323\n"
          ],
          "name": "stdout"
        }
      ]
    },
    {
      "cell_type": "markdown",
      "metadata": {
        "id": "bLr_Btszvvzp"
      },
      "source": [
        "# Save model"
      ]
    },
    {
      "cell_type": "code",
      "metadata": {
        "id": "Gs2n8bIGr2pK"
      },
      "source": [
        "#settings 3\n",
        "save_model = True\n",
        "\n",
        "if save_model is True:\n",
        "    # Saves only parameters\n",
        "    # wights & biases\n",
        "    torch.save(model.state_dict(), PATH + 'assignment1_model8.pkl') "
      ],
      "execution_count": null,
      "outputs": []
    },
    {
      "cell_type": "markdown",
      "metadata": {
        "id": "wT4oruxavyOs"
      },
      "source": [
        "# Testing loaded model with digits:"
      ]
    },
    {
      "cell_type": "code",
      "metadata": {
        "id": "BqPSKgCMr2pK",
        "outputId": "b1c14f58-6bc5-49da-c102-8b7888c3a700"
      },
      "source": [
        "import matplotlib\n",
        "import matplotlib.pyplot as plt\n",
        "for images, labels in test_loader:\n",
        "    break\n",
        "    \n",
        "fig, ax = plt.subplots(1, 7)\n",
        "for i in range(7):\n",
        "    ax[i].imshow(images[i].view(28,28), cmap=matplotlib.cm.binary)\n",
        "\n",
        "plt.show()"
      ],
      "execution_count": null,
      "outputs": [
        {
          "output_type": "display_data",
          "data": {
            "image/png": "[encoded data removed]",
            "text/plain": [
              "<Figure size 432x288 with 7 Axes>"
            ]
          },
          "metadata": {
            "tags": [],
            "needs_background": "light"
          }
        }
      ]
    },
    {
      "cell_type": "code",
      "metadata": {
        "id": "ddihJI2rr2pL",
        "outputId": "3900c415-45d9-4a7a-d228-e348dc5dd8d8"
      },
      "source": [
        "import matplotlib\n",
        "import matplotlib.pyplot as plt\n",
        "\n",
        "print (iteration_loss)\n",
        "plt.plot(iteration_loss)\n",
        "plt.ylabel('Cross Entropy Loss')\n",
        "plt.xlabel('Iteration (in every 500)')\n",
        "plt.show()"
      ],
      "execution_count": null,
      "outputs": [
        {
          "output_type": "stream",
          "text": [
            "[1.6665781736373901, 1.483166217803955, 1.225946068763733, 1.2014485597610474, 1.0538617372512817, 1.0474109649658203, 1.131105899810791, 0.7916216254234314, 0.8378718495368958, 0.7933202385902405, 0.7922217845916748, 0.7003310918807983, 0.7076928019523621, 0.5779549479484558, 0.686365008354187]\n"
          ],
          "name": "stdout"
        },
        {
          "output_type": "display_data",
          "data": {
            "image/png": "[encoded data removed]",
            "text/plain": [
              "<Figure size 432x288 with 1 Axes>"
            ]
          },
          "metadata": {
            "tags": [],
            "needs_background": "light"
          }
        }
      ]
    },
    {
      "cell_type": "markdown",
      "metadata": {
        "id": "dVTdVRxmv10H"
      },
      "source": [
        "# Changing the hyperparameters for fourth try:"
      ]
    },
    {
      "cell_type": "markdown",
      "metadata": {
        "id": "e_U0xCl52hKv"
      },
      "source": [
        "# Loading Bangla Digit Dataset\r\n",
        "\r\n",
        "- **totaldata:** 72045\r\n",
        "- **minibatch:** 225\r\n",
        "  - Number of examples in **1** iteration\r\n",
        "\r\n",
        "- **iterations:** 10000\r\n",
        "  - *1 iteration: one mini-batch forward & backward pass. That means a parameter (wights and biases) update.*\r\n",
        "\r\n",
        "- **epochs**\r\n",
        "  - 1 epoch: running through the whole dataset once\r\n",
        "  - $epochs = iterations \\div \\frac{totaldata}{minibatch} = 10000 \\div \\frac{72045}{225} = 31$"
      ]
    },
    {
      "cell_type": "code",
      "metadata": {
        "id": "Bb3TLEGMr2pM",
        "outputId": "c613b7f2-bfb2-4f13-bf3e-2277a5700333"
      },
      "source": [
        "# Hyperparameters\n",
        "\n",
        "batch_size = 225\n",
        "num_iters = 10000\n",
        "input_dim = 28*28 # num_features = 784\n",
        "num_hidden = 250 # num of hidden nodes\n",
        "output_dim = 10\n",
        "\n",
        "learning_rate = 0.001  # More power so we can learn faster! previously it was 0.001\n",
        "\n",
        "num_epochs = num_iters / (len(train_data) / batch_size)\n",
        "num_epochs = int(num_epochs)\n",
        "print(num_epochs)\n",
        "\n",
        "# Device\n",
        "device = torch.device(\"cuda:0\" if torch.cuda.is_available() else \"cpu\")\n",
        "\n",
        "# split data 10% for testing\n",
        "test_size = 0.1\n",
        "\n",
        "# obtain training indices that will be used for validation\n",
        "num_train = len(train_data)\n",
        "\n",
        "# mix data\n",
        "# index of num of train\n",
        "indices = list(range(num_train))\n",
        "# random the index\n",
        "np.random.shuffle(indices)\n",
        "split = int(np.floor(test_size * num_train))\n",
        "# divied into two part\n",
        "train_idx, test_idx = indices[split:], indices[:split]\n",
        "\n",
        "# define the sampler\n",
        "train_sampler = SubsetRandomSampler(train_idx)\n",
        "test_sampler = SubsetRandomSampler(test_idx)\n",
        "\n",
        "# prepare loaders\n",
        "train_loader = torch.utils.data.DataLoader(\n",
        "    train_data, batch_size=batch_size,\n",
        "    sampler=train_sampler)\n",
        "\n",
        "test_loader = torch.utils.data.DataLoader(\n",
        "    test_data, batch_size=batch_size,\n",
        "    sampler=test_sampler)\n",
        "\n",
        "print(\"Train dataloader:{}\".format(len(train_loader)))\n",
        "print(\"Test dataloader:{}\".format(len(test_loader)))\n",
        "class DeepNeuralNetworkModel(nn.Module):\n",
        "    def __init__(self, input_size, num_classes, num_hidden):\n",
        "        super().__init__()\n",
        "        ### 1st hidden layer: 784 --> 100\n",
        "        self.linear_1 = nn.Linear(input_size, num_hidden)\n",
        "        ### Non-linearity in 1st hidden layer\n",
        "        self.relu_1 = nn.ReLU6()\n",
        "\n",
        "        ### 2nd hidden layer: 100 --> 100\n",
        "        self.linear_2 = nn.Linear(num_hidden, num_hidden)\n",
        "        ### Non-linearity in 2nd hidden layer\n",
        "        self.relu_2 = nn.ReLU6()\n",
        "\n",
        "        ### Output layer: 100 --> 10\n",
        "        self.linear_out = nn.Linear(num_hidden, num_classes)\n",
        "\n",
        "    def forward(self, x):\n",
        "        ### 1st hidden layer\n",
        "        out  = self.linear_1(x)\n",
        "        ### Non-linearity in 1st hidden layer\n",
        "        out = self.relu_1(out)\n",
        "        \n",
        "        ### 2nd hidden layer\n",
        "        out  = self.linear_2(out)\n",
        "        ### Non-linearity in 2nd hidden layer\n",
        "        out = self.relu_2(out)\n",
        "        \n",
        "        # Linear layer (output)\n",
        "        probas  = self.linear_out(out)\n",
        "        return probas\n",
        "# INSTANTIATE MODEL CLASS\n",
        "\n",
        "model = DeepNeuralNetworkModel(input_size = input_dim,\n",
        "                               num_classes = output_dim,\n",
        "                               num_hidden = num_hidden)\n",
        "# To enable GPU\n",
        "model.to(device)\n",
        "# INSTANTIATE LOSS & OPTIMIZER CLASS\n",
        "\n",
        "criterion = nn.CrossEntropyLoss()\n",
        "optimizer = torch.optim.Adamax(model.parameters(), lr=learning_rate)\n",
        "iteration_loss = []\n",
        "iter = 0\n",
        "for epoch in range(num_epochs):\n",
        "    for i, (images, labels) in enumerate(train_loader):\n",
        "\n",
        "        images = images.view(-1, 28*28).to(device)\n",
        "        labels = labels.to(device)\n",
        "\n",
        "        # Clear gradients w.r.t. parameters\n",
        "        optimizer.zero_grad()\n",
        "\n",
        "        # Forward pass to get output/logits\n",
        "        outputs = model(images) \n",
        "\n",
        "        # Calculate Loss: softmax --> cross entropy loss\n",
        "        loss = criterion(outputs, labels)\n",
        "\n",
        "        # Getting gradients w.r.t. parameters\n",
        "        loss.backward()\n",
        "\n",
        "        # Updating parameters\n",
        "        optimizer.step()\n",
        "\n",
        "        iter += 1\n",
        "\n",
        "        if iter % 500 == 0:\n",
        "            # Calculate Accuracy         \n",
        "            correct = 0\n",
        "            total = 0\n",
        "            # Iterate through test dataset\n",
        "            for images, labels in test_loader:\n",
        "               \n",
        "                images = images.view(-1, 28*28).to(device)\n",
        "\n",
        "                # Forward pass only to get logits/output\n",
        "                outputs = model(images)\n",
        "\n",
        "                # Get predictions from the maximum value\n",
        "                _, predicted = torch.max(outputs, 1)\n",
        "\n",
        "                # Total number of labels\n",
        "                total += labels.size(0)\n",
        "\n",
        "\n",
        "                # Total correct predictions\n",
        "                if torch.cuda.is_available():\n",
        "                    correct += (predicted.cpu() == labels.cpu()).sum() \n",
        "                else:\n",
        "                    correct += (predicted == labels).sum()\n",
        "\n",
        "            accuracy = 100 * correct.item() / total\n",
        "\n",
        "            # Print Loss\n",
        "            iteration_loss.append(loss.item())\n",
        "            print('Iteration: {}. Loss: {}. Accuracy: {}'.format(iter, loss.item(), accuracy))"
      ],
      "execution_count": null,
      "outputs": [
        {
          "output_type": "stream",
          "text": [
            "31\n",
            "Train dataloader:289\n",
            "Test dataloader:33\n",
            "Iteration: 500. Loss: 1.6533063650131226. Accuracy: 40.43586896168795\n",
            "Iteration: 1000. Loss: 1.416408658027649. Accuracy: 49.90283176013326\n",
            "Iteration: 1500. Loss: 1.3793079853057861. Accuracy: 54.330927262631874\n",
            "Iteration: 2000. Loss: 1.2871673107147217. Accuracy: 57.16268739589117\n",
            "Iteration: 2500. Loss: 1.133628487586975. Accuracy: 62.93725707940033\n",
            "Iteration: 3000. Loss: 0.9746496081352234. Accuracy: 65.53303720155469\n",
            "Iteration: 3500. Loss: 0.9334429502487183. Accuracy: 68.62853970016657\n",
            "Iteration: 4000. Loss: 0.8798841834068298. Accuracy: 69.94725152692948\n",
            "Iteration: 4500. Loss: 0.8383423686027527. Accuracy: 70.48861743475847\n",
            "Iteration: 5000. Loss: 0.8391940593719482. Accuracy: 72.1682398667407\n",
            "Iteration: 5500. Loss: 0.7501221299171448. Accuracy: 73.98667406996113\n",
            "Iteration: 6000. Loss: 0.8000629544258118. Accuracy: 74.8611882287618\n",
            "Iteration: 6500. Loss: 0.6600285768508911. Accuracy: 74.38922820655192\n",
            "Iteration: 7000. Loss: 0.6324756145477295. Accuracy: 77.08217656857302\n",
            "Iteration: 7500. Loss: 0.6444560885429382. Accuracy: 78.55358134369794\n",
            "Iteration: 8000. Loss: 0.5178011655807495. Accuracy: 76.90172126596336\n",
            "Iteration: 8500. Loss: 0.5111101269721985. Accuracy: 78.76179900055524\n"
          ],
          "name": "stdout"
        }
      ]
    },
    {
      "cell_type": "markdown",
      "metadata": {
        "id": "C8D3lffEv8s9"
      },
      "source": [
        "# Save model"
      ]
    },
    {
      "cell_type": "code",
      "metadata": {
        "id": "rhdCU_lfr2pM"
      },
      "source": [
        "#settings 4\n",
        "save_model = True\n",
        "\n",
        "if save_model is True:\n",
        "    # Saves only parameters\n",
        "    # wights & biases\n",
        "    torch.save(model.state_dict(), PATH + 'assignment1_model9.pkl') "
      ],
      "execution_count": null,
      "outputs": []
    },
    {
      "cell_type": "markdown",
      "metadata": {
        "id": "D_0RDOQ1v-io"
      },
      "source": [
        "# Testing loaded model with digits:"
      ]
    },
    {
      "cell_type": "code",
      "metadata": {
        "id": "Ag0ni2Tcr2pN",
        "outputId": "9e246b1c-b6a1-46dd-92dc-c7b4cc1136be"
      },
      "source": [
        "import matplotlib\n",
        "import matplotlib.pyplot as plt\n",
        "for images, labels in test_loader:\n",
        "    break\n",
        "    \n",
        "fig, ax = plt.subplots(1, 7)\n",
        "for i in range(7):\n",
        "    ax[i].imshow(images[i].view(28,28), cmap=matplotlib.cm.binary)\n",
        "\n",
        "plt.show()"
      ],
      "execution_count": null,
      "outputs": [
        {
          "output_type": "display_data",
          "data": {
            "image/png": "[encoded data removed]",
            "text/plain": [
              "<Figure size 432x288 with 7 Axes>"
            ]
          },
          "metadata": {
            "tags": [],
            "needs_background": "light"
          }
        }
      ]
    },
    {
      "cell_type": "code",
      "metadata": {
        "id": "-8uK56-zr2pN",
        "outputId": "f1789027-4acc-4769-9b7f-ce1c6eb1dbe6"
      },
      "source": [
        "import matplotlib\n",
        "import matplotlib.pyplot as plt\n",
        "\n",
        "print (iteration_loss)\n",
        "plt.plot(iteration_loss)\n",
        "plt.ylabel('Cross Entropy Loss')\n",
        "plt.xlabel('Iteration (in every 500)')\n",
        "plt.show()\n"
      ],
      "execution_count": null,
      "outputs": [
        {
          "output_type": "stream",
          "text": [
            "[1.6533063650131226, 1.416408658027649, 1.3793079853057861, 1.2871673107147217, 1.133628487586975, 0.9746496081352234, 0.9334429502487183, 0.8798841834068298, 0.8383423686027527, 0.8391940593719482, 0.7501221299171448, 0.8000629544258118, 0.6600285768508911, 0.6324756145477295, 0.6444560885429382, 0.5178011655807495, 0.5111101269721985]\n"
          ],
          "name": "stdout"
        },
        {
          "output_type": "display_data",
          "data": {
            "image/png": "[encoded data removed]",
            "text/plain": [
              "<Figure size 432x288 with 1 Axes>"
            ]
          },
          "metadata": {
            "tags": [],
            "needs_background": "light"
          }
        }
      ]
    },
    {
      "cell_type": "markdown",
      "metadata": {
        "id": "d_3cSHZe3LhY"
      },
      "source": [
        "# Result Analysis"
      ]
    },
    {
      "cell_type": "markdown",
      "metadata": {
        "id": "VDDDPOZh3THz"
      },
      "source": [
        "\r\n",
        "**All results showing in the table:-**\r\n",
        "\r\n",
        "|                | First Try     | Second Try    | Third Try | Fourth Try |\r\n",
        "| :------------- | :----------: | -----------: |-----------: |-----------: |\r\n",
        "|  Batch Size | 220  | 210    |220| 225|\r\n",
        "| Num of Iters   | 10000 | 9000 |9000 | 10000|\r\n",
        "|Number of hidden layer| 250|250|250|250|\r\n",
        "|Optimizer|Adamax|Adamax|Adamax|Adamax|Adamax|\r\n",
        "|  Learning Rate | 0.001   | 0.001    |0.001| 0.001|\r\n",
        "|  Accuracy | 79.59%  | 77.22% | 77.37% | 78.76%|\r\n",
        "| Loss| 0.68 | 0.59 | 0.69| 0.51|\r\n"
      ]
    },
    {
      "cell_type": "markdown",
      "metadata": {
        "id": "H2wzIZWq4n_s"
      },
      "source": [
        "**Results:**\r\n",
        "From the above table, we can see that we can get a good accuracy by fixing all the hyperparameters and increasing the batch size and number of iterations. We have used the Adamax optimizer here, which provides better performance. Using a deep neural network, we can secure 79.59% accuracy, which is quite good. Before using logistic regression, we could not get much accuracy then. We use a deep neural network, where there are multiple hidden layers, and activation functions improve accuracy."
      ]
    },
    {
      "cell_type": "markdown",
      "metadata": {
        "id": "aITGHvqE7EGm"
      },
      "source": [
        "**Conclusion:**\r\n",
        "We presented a deep neural network-based Bangla digit recognition method for a typical and challenging dataset in this issue. Compared to other unbiased datasets, we obtained 79.59% percent research precision, which is a positive outcome for the massive and impartial NumtaDB dataset. We discovered that using only a deep classification model to improve efficiency is ineffective. Before preparation, all types of image preprocessing are essential. We use some preprocessing techniques for blurry and noisy videos, but they are insufficient for high efficiency.Using CNN model, we can get more better performance."
      ]
    }
  ]
}